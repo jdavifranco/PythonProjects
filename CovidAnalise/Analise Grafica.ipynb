{
 "cells": [
  {
   "cell_type": "code",
   "execution_count": 2,
   "id": "b0f28ff5",
   "metadata": {},
   "outputs": [],
   "source": [
    "import requests as r"
   ]
  },
  {
   "cell_type": "code",
   "execution_count": 3,
   "id": "ed75d52a",
   "metadata": {},
   "outputs": [],
   "source": [
    "url =\"https://api.covid19api.com/dayone/country/brazil\""
   ]
  },
  {
   "cell_type": "code",
   "execution_count": 4,
   "id": "5a25bdb8",
   "metadata": {},
   "outputs": [
    {
     "name": "stdout",
     "output_type": "stream",
     "text": [
      "200\n"
     ]
    }
   ],
   "source": [
    "resp = r.get(url)\n",
    "print(resp.status_code)"
   ]
  },
  {
   "cell_type": "code",
   "execution_count": 5,
   "id": "2f1c9044",
   "metadata": {},
   "outputs": [
    {
     "name": "stdout",
     "output_type": "stream",
     "text": [
      "{'ID': '63aa488e-b4a2-4fcd-ae15-07c1ff219903', 'Country': 'Brazil', 'CountryCode': 'BR', 'Province': '', 'City': '', 'CityCode': '', 'Lat': '-14.24', 'Lon': '-51.93', 'Confirmed': 1, 'Deaths': 0, 'Recovered': 0, 'Active': 1, 'Date': '2020-02-26T00:00:00Z'}\n"
     ]
    }
   ],
   "source": [
    "raw_data = resp.json()\n",
    "print(raw_data[0])"
   ]
  },
  {
   "cell_type": "code",
   "execution_count": 6,
   "id": "d09d35a7",
   "metadata": {},
   "outputs": [
    {
     "name": "stdout",
     "output_type": "stream",
     "text": [
      "[1, 0, 0, 1, '2020-02-26T00:00:00Z']\n"
     ]
    }
   ],
   "source": [
    "final_data = []\n",
    "for obs in raw_data:\n",
    "    final_data.append([obs['Confirmed'], obs['Deaths'], obs['Recovered'], obs['Active'], obs['Date']])\n",
    "\n",
    "print(final_data[0])"
   ]
  },
  {
   "cell_type": "code",
   "execution_count": 7,
   "id": "304f5c65",
   "metadata": {},
   "outputs": [
    {
     "name": "stdout",
     "output_type": "stream",
     "text": [
      "['Confirmados', 'Obitos', 'Recuperados', 'Ativos', 'Data']\n"
     ]
    }
   ],
   "source": [
    "final_data.insert(0, ['Confirmados', 'Obitos', 'Recuperados', 'Ativos', 'Data'])\n",
    "print(final_data[0])"
   ]
  },
  {
   "cell_type": "code",
   "execution_count": 24,
   "id": "d007fcf3",
   "metadata": {},
   "outputs": [
    {
     "name": "stdout",
     "output_type": "stream",
     "text": [
      "[1, 0, 0, 1, '2020-02-26']\n"
     ]
    }
   ],
   "source": [
    "#guardando os indices em variaveis para um acesso fácil de entender\n",
    "confirmados=0\n",
    "obitos=1\n",
    "recuperados=2\n",
    "ativos=3\n",
    "data=4\n",
    "\n",
    "for i in range(1, len(final_data)):\n",
    "    final_data[i][data] = final_data[i][data][:10]\n",
    "\n",
    "print(final_data[1])"
   ]
  },
  {
   "cell_type": "code",
   "execution_count": 29,
   "id": "5c569ff9",
   "metadata": {},
   "outputs": [],
   "source": [
    "import datetime as dt"
   ]
  },
  {
   "cell_type": "code",
   "execution_count": 11,
   "id": "ee04baa3",
   "metadata": {
    "scrolled": false
   },
   "outputs": [],
   "source": [
    "import csv\n",
    "\n",
    "with open('brasil_covid.csv', 'w') as file:\n",
    "    writer = csv.writer(file)\n",
    "    writer.writerows(final_data)\n",
    "#Testando para ver se salvou certo\n",
    "with open('brasil_covid.csv', 'r') as file:\n",
    "    dados = file.read()"
   ]
  },
  {
   "cell_type": "code",
   "execution_count": 38,
   "id": "bc9e5b36",
   "metadata": {
    "scrolled": false
   },
   "outputs": [],
   "source": [
    "#convertendo a data de string para objetos datetime\n",
    "for i in range(1, len(final_data)):\n",
    "    final_data[i][data] = dt.datetime.strptime(final_data[i][data], '%Y-%m-%d')\n",
    "   "
   ]
  },
  {
   "cell_type": "code",
   "execution_count": 39,
   "id": "e8b2e5df",
   "metadata": {},
   "outputs": [
    {
     "name": "stdout",
     "output_type": "stream",
     "text": [
      "[1, 0, 0, 1, datetime.datetime(2020, 2, 27, 0, 0)]\n"
     ]
    }
   ],
   "source": [
    "print(final_data[2])"
   ]
  },
  {
   "cell_type": "code",
   "execution_count": 13,
   "id": "91579857",
   "metadata": {},
   "outputs": [],
   "source": [
    "# criar funcoes para facilitar a manipulação de dados e passar para a api quickchart\n",
    "#funcoes helpers\n",
    "def get_datasets(y, labels): \n",
    "    if type(y[0])==list: # se o tipo de y for uma lista de listas então cada lista de y tem um valor correspondente em labels\n",
    "        datasets = []\n",
    "        for i in range(len(y)): # percorrendo a lista de listas para gerar um dicionairo de valores do tipo f(x)=y\n",
    "            datasets.append({\n",
    "                'label':labels[i], # eixo x \n",
    "                'data' :y[i] # eixo y\n",
    "            })\n",
    "        return datasets\n",
    "    else: #caso contrario retorna um dicionario com um item apenas\n",
    "        return [{\n",
    "            'label':labels[0],\n",
    "            'data': y\n",
    "        }]\n"
   ]
  },
  {
   "cell_type": "code",
   "execution_count": 15,
   "id": "902e89e1",
   "metadata": {},
   "outputs": [],
   "source": [
    "#segunda funcao helper\n",
    "# essa funcao serve para gerar o titulo conforme o padrao da api, o titulo deve ser um part {title, display}, um é\n",
    "#title é string e display é boolean. De acordo com o valor de display  a api exibe ou não o titulo.\n",
    "def set_title(title=''): #O valor de display aqui será decidido de acordo com o valor de titulo\n",
    "    if title != '':\n",
    "        display='true'\n",
    "    else:\n",
    "        display='false'\n",
    "    \n",
    "    return {\n",
    "        'title':title,\n",
    "        'display':display\n",
    "    }"
   ]
  },
  {
   "cell_type": "code",
   "execution_count": 16,
   "id": "3e1161c2",
   "metadata": {},
   "outputs": [],
   "source": [
    "#funcao que criar o chart conforme o padrao da api\n",
    "def create_chart(x, y, labels, kind='bar', title=''):\n",
    "    datasets = get_datasets(y, labels)\n",
    "    options = set_title(title)\n",
    "    chart = {\n",
    "        'type':kind,\n",
    "        'data':{\n",
    "            'labels':x,\n",
    "            'datasets':datasets\n",
    "        },\n",
    "        'options':options\n",
    "    }\n",
    "    return chart"
   ]
  },
  {
   "cell_type": "code",
   "execution_count": 17,
   "id": "f3adbcc1",
   "metadata": {},
   "outputs": [],
   "source": [
    "#funcao que faz a requisicao para a api e retorna o conteudo da resposta em binario\n",
    "def get_api_chart(chart):\n",
    "    url_base='https://quickchart.io/chart'\n",
    "    resp=r.get(f'{url_base}?c={str(chart)}')\n",
    "    return resp_content"
   ]
  },
  {
   "cell_type": "code",
   "execution_count": 18,
   "id": "2c6581db",
   "metadata": {},
   "outputs": [],
   "source": [
    "#salvao para salvar a imagem em um arquivo\n",
    "def save_imae(path, content):\n",
    "    with open(path, 'wb') as image:\n",
    "        image.write(content)"
   ]
  },
  {
   "cell_type": "code",
   "execution_count": 20,
   "id": "b51e199f",
   "metadata": {},
   "outputs": [],
   "source": [
    "#importar bibliotecas para exibir a imagem\n",
    "from PIL import Image\n",
    "from IPython.display import display"
   ]
  },
  {
   "cell_type": "code",
   "execution_count": null,
   "id": "adc4eb3c",
   "metadata": {},
   "outputs": [],
   "source": [
    "def display_image()"
   ]
  }
 ],
 "metadata": {
  "kernelspec": {
   "display_name": "Python 3 (ipykernel)",
   "language": "python",
   "name": "python3"
  },
  "language_info": {
   "codemirror_mode": {
    "name": "ipython",
    "version": 3
   },
   "file_extension": ".py",
   "mimetype": "text/x-python",
   "name": "python",
   "nbconvert_exporter": "python",
   "pygments_lexer": "ipython3",
   "version": "3.9.5"
  }
 },
 "nbformat": 4,
 "nbformat_minor": 5
}
